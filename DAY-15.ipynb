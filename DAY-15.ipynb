{
 "cells": [
  {
   "cell_type": "code",
   "execution_count": 2,
   "id": "c725b753",
   "metadata": {},
   "outputs": [
    {
     "name": "stdout",
     "output_type": "stream",
     "text": [
      "ABCAB\n",
      "[12, 15, 18]\n"
     ]
    }
   ],
   "source": [
    "# Txt : ABABACDEABABABCABCABCABDAA\n",
    "# Pat : ABCAB\n",
    "S=\"ABABACDEABABABCABCABCABDAA\"\n",
    "p=input()\n",
    "n=len(p)\n",
    "index=[]\n",
    "for i in range(len(S)):\n",
    "    if S[i:i+n] == p:\n",
    "        index.append(i)\n",
    "print(index)"
   ]
  },
  {
   "cell_type": "code",
   "execution_count": 3,
   "id": "04dc3c06",
   "metadata": {},
   "outputs": [
    {
     "name": "stdout",
     "output_type": "stream",
     "text": [
      "[0, -1, -1, 1, 2]\n",
      "pattern Found : 12\n",
      "pattern Found : 15\n",
      "pattern Found : 18\n"
     ]
    }
   ],
   "source": [
    "def Kmpalgo(p,S):\n",
    "    m =len(p)\n",
    "    N = len(S)\n",
    "    lps=[]\n",
    "    LPS(p,m,lps)\n",
    "    print(lps)\n",
    "    i=0\n",
    "    j=0\n",
    "    while(N-i) >= (m-j):\n",
    "        if p[j] == S[i]:\n",
    "            i+=1\n",
    "            j+=1\n",
    "        if j == m:\n",
    "            print(\"pattern Found :\",i-j)\n",
    "            j=lps[j-1]\n",
    "        elif i < N and p[j] != S[i]:\n",
    "            if j != 0:\n",
    "                j= lps[j-1]\n",
    "            else:\n",
    "                i+=1\n",
    "\n",
    "def LPS(p,m,lps):\n",
    "    lps.append(0)\n",
    "    j=0\n",
    "    for i in range(1,len(p)):\n",
    "        if p[i]==p[j]:\n",
    "            lps.append(j+1)\n",
    "            j=j+1\n",
    "        else:\n",
    "            j=0\n",
    "            lps.append(j-1)\n",
    "if __name__==\"__main__\":\n",
    "    S=\"ABABACDEABABABCABCABCABDAA\"\n",
    "    p = \"ABCAB\"\n",
    "    Kmpalgo(p,S)"
   ]
  },
  {
   "cell_type": "code",
   "execution_count": 7,
   "id": "c311127d",
   "metadata": {},
   "outputs": [
    {
     "name": "stdout",
     "output_type": "stream",
     "text": [
      "move 1 from A to B\n",
      "move 2 from A to C\n",
      "move 1 from B to C\n",
      "move 3 from A to B\n",
      "move 1 from C to A\n",
      "move 2 from C to B\n",
      "move 1 from A to B\n",
      "move 4 from A to C\n",
      "move 1 from B to C\n",
      "move 2 from B to A\n",
      "move 1 from C to A\n",
      "move 3 from B to C\n",
      "move 1 from A to B\n",
      "move 2 from A to C\n",
      "move 1 from B to C\n",
      "[15]\n"
     ]
    }
   ],
   "source": [
    "ctr=[0]\n",
    "def tower(n,frm,to,aux,ctr):\n",
    "    if n == 0:\n",
    "        return \n",
    "    tower(n-1,frm,aux,to,ctr)\n",
    "    print(f\"move {n} from {frm} to {to}\")\n",
    "    ctr[0]+=1\n",
    "    tower(n-1,aux,to,frm,ctr)\n",
    "n=4\n",
    "tower(n,'A','C','B',ctr)\n",
    "print(ctr)"
   ]
  },
  {
   "cell_type": "code",
   "execution_count": null,
   "id": "9e400dee",
   "metadata": {},
   "outputs": [],
   "source": []
  }
 ],
 "metadata": {
  "kernelspec": {
   "display_name": "Python 3 (ipykernel)",
   "language": "python",
   "name": "python3"
  },
  "language_info": {
   "codemirror_mode": {
    "name": "ipython",
    "version": 3
   },
   "file_extension": ".py",
   "mimetype": "text/x-python",
   "name": "python",
   "nbconvert_exporter": "python",
   "pygments_lexer": "ipython3",
   "version": "3.11.5"
  }
 },
 "nbformat": 4,
 "nbformat_minor": 5
}
