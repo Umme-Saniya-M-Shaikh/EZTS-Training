{
 "cells": [
  {
   "cell_type": "markdown",
   "id": "4aebcae4",
   "metadata": {},
   "source": [
    "### LEET CODE PROBLEMS"
   ]
  },
  {
   "cell_type": "markdown",
   "id": "3b2b5c60",
   "metadata": {},
   "source": [
    "##### Inorder traversal"
   ]
  },
  {
   "cell_type": "code",
   "execution_count": null,
   "id": "88340ce9",
   "metadata": {},
   "outputs": [],
   "source": [
    "# Definition for a binary tree node.\n",
    "class TreeNode:\n",
    "    def __init__(self, val=0, left=None, right=None):\n",
    "        self.val = val\n",
    "        self.left = left\n",
    "        self.right = right\n",
    "class Solution:\n",
    "    def inorderTraversal(self, root: Optional[TreeNode]) -> List[int]:\n",
    "        res=[]\n",
    "        def inorder(root):\n",
    "            if root == None:\n",
    "                return\n",
    "            inorder(root.left)\n",
    "            res.append(root.val)\n",
    "            inorder(root.right)\n",
    "        inorder(root)\n",
    "        return res        "
   ]
  },
  {
   "cell_type": "markdown",
   "id": "1e56d851",
   "metadata": {},
   "source": [
    "###### max depth of binary tree"
   ]
  },
  {
   "cell_type": "code",
   "execution_count": null,
   "id": "8e178e10",
   "metadata": {},
   "outputs": [],
   "source": [
    "# Definition for a binary tree node.\n",
    "# class TreeNode:\n",
    "#     def __init__(self, val=0, left=None, right=None):\n",
    "#         self.val = val\n",
    "#         self.left = left\n",
    "#         self.right = right\n",
    "class Solution:\n",
    "    def maxDepth(self, root: Optional[TreeNode]) -> int:\n",
    "        if root==None:\n",
    "            return 0\n",
    "        else:\n",
    "            LH=self.maxDepth(root.left)\n",
    "            RH=self.maxDepth(root.right)\n",
    "            return max(LH,RH)+1   "
   ]
  },
  {
   "cell_type": "markdown",
   "id": "9f2d5d08",
   "metadata": {},
   "source": [
    "###### preorder traversal of binary tree"
   ]
  },
  {
   "cell_type": "code",
   "execution_count": null,
   "id": "e0bbe2c0",
   "metadata": {},
   "outputs": [],
   "source": [
    "# Definition for a binary tree node.\n",
    "# class TreeNode:\n",
    "#     def __init__(self, val=0, left=None, right=None):\n",
    "#         self.val = val\n",
    "#         self.left = left\n",
    "#         self.right = right\n",
    "class Solution:\n",
    "    def preorderTraversal(self, root: Optional[TreeNode]) -> List[int]:\n",
    "        res=[]\n",
    "        def preorder(root):\n",
    "            if root==None:\n",
    "                return\n",
    "            res.append(root.val)\n",
    "            preorder(root.left)\n",
    "            preorder(root.right)        \n",
    "        preorder(root)\n",
    "        return res"
   ]
  },
  {
   "cell_type": "markdown",
   "id": "2f31699f",
   "metadata": {},
   "source": [
    "###### post order traversal"
   ]
  },
  {
   "cell_type": "code",
   "execution_count": null,
   "id": "eeeb6431",
   "metadata": {},
   "outputs": [],
   "source": [
    "# Definition for a binary tree node.\n",
    "# class TreeNode:\n",
    "#     def __init__(self, val=0, left=None, right=None):\n",
    "#         self.val = val\n",
    "#         self.left = left\n",
    "#         self.right = right\n",
    "class Solution:\n",
    "    def preorderTraversal(self, root: Optional[TreeNode]) -> List[int]:\n",
    "        res=[]\n",
    "        def preorder(root):\n",
    "            if root==None:\n",
    "                return\n",
    "            res.append(root.val)\n",
    "            preorder(root.left)\n",
    "            preorder(root.right)        \n",
    "        preorder(root)\n",
    "        return res"
   ]
  }
 ],
 "metadata": {
  "kernelspec": {
   "display_name": "Python 3 (ipykernel)",
   "language": "python",
   "name": "python3"
  },
  "language_info": {
   "codemirror_mode": {
    "name": "ipython",
    "version": 3
   },
   "file_extension": ".py",
   "mimetype": "text/x-python",
   "name": "python",
   "nbconvert_exporter": "python",
   "pygments_lexer": "ipython3",
   "version": "3.11.5"
  }
 },
 "nbformat": 4,
 "nbformat_minor": 5
}
