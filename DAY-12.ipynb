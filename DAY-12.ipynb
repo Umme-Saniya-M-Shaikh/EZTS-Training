{
 "cells": [
  {
   "cell_type": "code",
   "execution_count": null,
   "id": "7c54d477",
   "metadata": {},
   "outputs": [],
   "source": [
    "P=[5,10,15,7,8,9,4] #profit\n",
    "W=[1,3,5,4,1,3,2] #weight\n",
    " "
   ]
  },
  {
   "cell_type": "code",
   "execution_count": 22,
   "id": "75eba3d3",
   "metadata": {},
   "outputs": [
    {
     "name": "stdout",
     "output_type": "stream",
     "text": [
      "400\n",
      "16\n"
     ]
    }
   ],
   "source": [
    "# Lambda function is used for doing small statements which consumes time and space \n",
    "def a(x):\n",
    "    return x*x\n",
    "def b(x):\n",
    "    return x-4\n",
    "print(a(20))\n",
    "print(b(20))"
   ]
  },
  {
   "cell_type": "code",
   "execution_count": 23,
   "id": "8e176d51",
   "metadata": {},
   "outputs": [
    {
     "name": "stdout",
     "output_type": "stream",
     "text": [
      "400\n",
      "16\n"
     ]
    }
   ],
   "source": [
    "def a(x):\n",
    "    return x*x\n",
    "B = lambda x : x-4\n",
    "print(a(20))\n",
    "print(b(20))"
   ]
  },
  {
   "cell_type": "code",
   "execution_count": null,
   "id": "49c91ffc",
   "metadata": {},
   "outputs": [],
   "source": [
    "# JOB SEQUENCING \n",
    "job=[j1,j2,j3,j4,j5]\n",
    "profit=[20,40,10,30,50]\n",
    "deadline=[2,1,2,3,1]\n",
    "for i in job,profit:\n",
    "    if profit[i]<=profit[i+1]:        "
   ]
  },
  {
   "cell_type": "code",
   "execution_count": 3,
   "id": "c1625cf4",
   "metadata": {},
   "outputs": [
    {
     "data": {
      "text/plain": [
       "51"
      ]
     },
     "execution_count": 3,
     "metadata": {},
     "output_type": "execute_result"
    }
   ],
   "source": [
    "def calc_max(P,W,C,n):\n",
    "    if n == 0 or C == 0:\n",
    "        return 0\n",
    "    if (W[n-1]>C):\n",
    "         return calc_max(P,W,C,n-1)\n",
    "    else:\n",
    "        return max(P[n-1]+calc_max(P,W,C-W[n-1],n-1),calc_max(P,W,C,n-1))\n",
    "P=[5,10,15,7,8,9,4] \n",
    "W=[1,3,5,4,1,3,2] \n",
    "C=15\n",
    "n=len(P)\n",
    "calc_max(P,W,C,n)"
   ]
  },
  {
   "cell_type": "code",
   "execution_count": 2,
   "id": "a9832821",
   "metadata": {},
   "outputs": [
    {
     "name": "stdout",
     "output_type": "stream",
     "text": [
      "51\n",
      "[[-1, -1, -1, -1, -1, -1, -1, -1, -1, -1, -1, -1, -1, -1, -1, -1], [-1, 5, 5, 5, 5, 5, 5, 5, 5, 5, 5, 5, 5, 5, 5, 5], [-1, 5, 5, 10, 15, 15, 15, 15, 15, 15, 15, 15, 15, 15, 15, 15], [-1, -1, -1, -1, -1, 15, 20, 20, 25, 30, 30, 30, 30, 30, 30, 30], [-1, -1, -1, -1, -1, -1, -1, -1, -1, 30, 30, 30, 32, 37, 37, 37], [-1, -1, -1, -1, -1, -1, -1, -1, -1, -1, 38, -1, 38, 40, -1, 45], [-1, -1, -1, -1, -1, -1, -1, -1, -1, -1, -1, -1, -1, 47, -1, 47], [-1, -1, -1, -1, -1, -1, -1, -1, -1, -1, -1, -1, -1, -1, -1, 51]]\n"
     ]
    }
   ],
   "source": [
    "def calc_max(P,W,C,n):\n",
    "    if n == 0 or C == 0:\n",
    "        return 0\n",
    "    if DP[n][C] != -1:\n",
    "        return DP[n][C]\n",
    "    if (W[n-1]<=C):\n",
    "        DP[n][C] = max(P[n-1]+calc_max(P,W,C-W[n-1],n-1),calc_max(P,W,C,n-1))\n",
    "        return DP[n][C]\n",
    "    else:\n",
    "        DP[n][C] = calc_max(P,W,C,n-1)\n",
    "        return DP[n][C]\n",
    "    \n",
    "P=[5,10,15,7,8,9,4] \n",
    "W=[1,3,5,4,1,3,2] \n",
    "C=15\n",
    "n=len(P)\n",
    "DP = [[-1 for i in range(C+1)] for j in range(n+1)]\n",
    "print(calc_max(P,W,C,n))\n",
    "print(DP)"
   ]
  },
  {
   "cell_type": "code",
   "execution_count": 21,
   "id": "83510ba5",
   "metadata": {},
   "outputs": [
    {
     "name": "stdout",
     "output_type": "stream",
     "text": [
      "[[0, 0, 4, 4, 4, 4, 4, 4, 4, 4, 4, 4, 4, 4, 4, 4], [0, 5, 5, 9, 9, 9, 9, 9, 9, 9, 9, 9, 9, 9, 9, 9], [0, 0, 0, 10, 15, 15, 19, 19, 19, 19, 19, 19, 19, 19, 19, 19], [0, 0, 0, 0, 0, 15, 19, 19, 25, 30, 30, 34, 34, 34, 34, 34], [0, 0, 0, 0, 7, 15, 19, 19, 25, 30, 30, 34, 34, 37, 37, 41], [0, 8, 8, 8, 8, 15, 23, 27, 27, 33, 38, 38, 42, 42, 45, 45], [0, 0, 0, 9, 17, 17, 23, 27, 27, 33, 38, 38, 42, 47, 47, 51], [0, 0, 0, 0, 0, 0, 0, 0, 0, 0, 0, 0, 0, 0, 0, 0]]\n",
      "51\n"
     ]
    }
   ],
   "source": [
    "p=[5,10,15,7,8,9,4]\n",
    "w=[1,3,5,4,1,3,2]\n",
    "c=15\n",
    "i=len(p)\n",
    "dp = [[0 for i in range(c+1)] for j in range(n+1)]\n",
    "for i in range(n):\n",
    "    for c in range(c+1):\n",
    "        if i == 0 or c == 0 :\n",
    "            dp[i][c] = 0 \n",
    "        if c-w[i-1] < 0:\n",
    "            dp[i][c] = dp[i][c]\n",
    "        else:\n",
    "            dp[i][c] = max(dp[i-1][c],P[i-1]+dp[i-1][c-W[i-1]])\n",
    "print(dp)\n",
    "print(dp[i][c])"
   ]
  },
  {
   "cell_type": "code",
   "execution_count": null,
   "id": "1d8191c4",
   "metadata": {},
   "outputs": [],
   "source": []
  }
 ],
 "metadata": {
  "kernelspec": {
   "display_name": "Python 3 (ipykernel)",
   "language": "python",
   "name": "python3"
  },
  "language_info": {
   "codemirror_mode": {
    "name": "ipython",
    "version": 3
   },
   "file_extension": ".py",
   "mimetype": "text/x-python",
   "name": "python",
   "nbconvert_exporter": "python",
   "pygments_lexer": "ipython3",
   "version": "3.11.5"
  }
 },
 "nbformat": 4,
 "nbformat_minor": 5
}
