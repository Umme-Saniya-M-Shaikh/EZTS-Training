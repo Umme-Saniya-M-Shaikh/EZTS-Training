{
 "cells": [
  {
   "cell_type": "markdown",
   "id": "85eb7aae",
   "metadata": {},
   "source": [
    "#### DOUBLE HASHING"
   ]
  },
  {
   "cell_type": "code",
   "execution_count": 17,
   "id": "7a531214",
   "metadata": {},
   "outputs": [
    {
     "name": "stdout",
     "output_type": "stream",
     "text": [
      "[81, 34, 46, 56, 45, 104, 70, 37, 39, 20]\n"
     ]
    }
   ],
   "source": [
    "k=[20,34,45,70,56,81,104,37,46,39]\n",
    "hk=[False for i in range(len(k))]\n",
    "n=len(k)\n",
    "for i in k:\n",
    "    h1_k = i % 11\n",
    "#     if hk[h1_k]==False:\n",
    "#         hk[h1_k]=i\n",
    "#     print(h1_k)\n",
    "    for j in range(len(k)):\n",
    "        h2_k = 8 - ( i % 8)\n",
    "        h_k = (h1_k + (j * h2_k))%11\n",
    "        if hk[h_k]==False:\n",
    "            hk[h_k]=i\n",
    "            break\n",
    "#     print(h_k)\n",
    "print(hk)"
   ]
  },
  {
   "cell_type": "markdown",
   "id": "f6d7a120",
   "metadata": {},
   "source": [
    "###### BIT MANIPULATION"
   ]
  },
  {
   "cell_type": "code",
   "execution_count": 21,
   "id": "568119ff",
   "metadata": {},
   "outputs": [
    {
     "name": "stdout",
     "output_type": "stream",
     "text": [
      "0b100\n",
      "0b101\n",
      "-0b110\n",
      "0b1001\n",
      "0b10010\n"
     ]
    }
   ],
   "source": [
    "a=0b101\n",
    "b=0b100\n",
    "print(bin(a&b))\n",
    "print(bin(a|b))\n",
    "print(bin(~a))    \n",
    "c=0b1001\n",
    "print(bin(c))\n",
    "print(bin(c<<1))"
   ]
  },
  {
   "cell_type": "markdown",
   "id": "0a4df50e",
   "metadata": {},
   "source": [
    "###### zip function"
   ]
  },
  {
   "cell_type": "code",
   "execution_count": 24,
   "id": "bb1ee72b",
   "metadata": {},
   "outputs": [
    {
     "name": "stdout",
     "output_type": "stream",
     "text": [
      "(1, 4)\n",
      "(2, 3)\n",
      "(3, 2)\n",
      "(4, 1)\n"
     ]
    }
   ],
   "source": [
    "# it takes the subscript and write the tuple \n",
    "a=[1,2,3,4]\n",
    "b=[4,3,2,1,6]\n",
    "for i in zip(a,b):\n",
    "    print(i)"
   ]
  },
  {
   "cell_type": "code",
   "execution_count": 33,
   "id": "71e77cd5",
   "metadata": {},
   "outputs": [
    {
     "name": "stdout",
     "output_type": "stream",
     "text": [
      "(3, 2)\n",
      "(2, 1)\n",
      "(1, 0)\n",
      "\n",
      "(3, 3)\n",
      "(2, 2)\n",
      "(1, 1)\n",
      "(0, 0)\n",
      "\n",
      "(5, 3)\n",
      "(4, 2)\n",
      "(3, 1)\n",
      "(2, 0)\n"
     ]
    }
   ],
   "source": [
    "q=4\n",
    "i=3\n",
    "for x in zip(range(q-1,-1,-1) , range(i-1,-1,-1)):\n",
    "    print(x)\n",
    "print()\n",
    "for x in zip(range(q-1,-1,-1) , range(i,-1,-1)):\n",
    "    print(x)\n",
    "print()\n",
    "for x in zip(range(q+1,-1,-1) , range(i,-1,-1)):\n",
    "    print(x)"
   ]
  },
  {
   "cell_type": "markdown",
   "id": "7c85950b",
   "metadata": {},
   "source": [
    "###### N QUEENS"
   ]
  },
  {
   "cell_type": "code",
   "execution_count": 1,
   "id": "b7650bb4",
   "metadata": {},
   "outputs": [
    {
     "name": "stdout",
     "output_type": "stream",
     "text": [
      "Q . . . . . . .\n",
      ". . . . . . Q .\n",
      ". . . . Q . . .\n",
      ". . . . . . . Q\n",
      ". Q . . . . . .\n",
      ". . . Q . . . .\n",
      ". . . . . Q . .\n",
      ". . Q . . . . .\n",
      "\n"
     ]
    },
    {
     "data": {
      "text/plain": [
       "True"
      ]
     },
     "execution_count": 1,
     "metadata": {},
     "output_type": "execute_result"
    }
   ],
   "source": [
    "def print_board(board):\n",
    "    for row in board:\n",
    "        print(\" \".join(row))\n",
    "    print()\n",
    "\n",
    "def is_safe(board, row, col):\n",
    "    # Check the row on the left side\n",
    "    for i in range(col):\n",
    "        if board[row][i] == 'Q':\n",
    "            return False\n",
    "\n",
    "    # Check the upper diagonal on the left side\n",
    "    for i, j in zip(range(row, -1, -1), range(col, -1, -1)):\n",
    "        if board[i][j] == 'Q':\n",
    "            return False\n",
    "\n",
    "    # Check the lower diagonal on the left side\n",
    "    for i, j in zip(range(row, len(board), 1), range(col, -1, -1)):\n",
    "        if board[i][j] == 'Q':\n",
    "            return False\n",
    "\n",
    "    return True\n",
    "\n",
    "def solve_n_queens(board, col):\n",
    "    if col >= len(board):\n",
    "        return True\n",
    "\n",
    "    for i in range(len(board)):\n",
    "        if is_safe(board, i, col):\n",
    "            board[i][col] = 'Q'\n",
    "            if solve_n_queens(board, col + 1):\n",
    "                return True\n",
    "            board[i][col] = '.'  # Backtrack\n",
    "\n",
    "    return False\n",
    "\n",
    "def n_queens(N):\n",
    "    board = [['.' for _ in range(N)] for _ in range(N)]\n",
    "    if not solve_n_queens(board, 0):\n",
    "        print(\"Solution does not exist\")\n",
    "        return False\n",
    "\n",
    "    print_board(board)\n",
    "    return True\n",
    "\n",
    "# Example usage:\n",
    "n_queens(8)"
   ]
  },
  {
   "cell_type": "code",
   "execution_count": 15,
   "id": "df937477",
   "metadata": {},
   "outputs": [
    {
     "name": "stdout",
     "output_type": "stream",
     "text": [
      "[7, 5, 1]\n",
      "7\n",
      "7\n",
      "1\n",
      "1\n",
      "1\n",
      "1\n",
      "No. of coins :  6\n"
     ]
    }
   ],
   "source": [
    "# Available denominations : 1,5,7\n",
    "# bill Amount : 18 \n",
    "# What will be the min number of coins required to pay the bill \n",
    "\n",
    "# GREEDY APPROACH\n",
    "\n",
    "arr=[1,5,7]\n",
    "arr.sort(reverse=True)\n",
    "print(arr)\n",
    "b=18\n",
    "c=0\n",
    "i=0\n",
    "while(b > 0):\n",
    "    if b>=arr[i] and i<len(arr):\n",
    "        c+=1\n",
    "        b=b-arr[i]\n",
    "        print(arr[i])\n",
    "    else:\n",
    "        i=i+1\n",
    "print(\"No. of coins : \",c)"
   ]
  },
  {
   "cell_type": "code",
   "execution_count": null,
   "id": "006d2720",
   "metadata": {},
   "outputs": [],
   "source": []
  }
 ],
 "metadata": {
  "kernelspec": {
   "display_name": "Python 3 (ipykernel)",
   "language": "python",
   "name": "python3"
  },
  "language_info": {
   "codemirror_mode": {
    "name": "ipython",
    "version": 3
   },
   "file_extension": ".py",
   "mimetype": "text/x-python",
   "name": "python",
   "nbconvert_exporter": "python",
   "pygments_lexer": "ipython3",
   "version": "3.11.5"
  }
 },
 "nbformat": 4,
 "nbformat_minor": 5
}
