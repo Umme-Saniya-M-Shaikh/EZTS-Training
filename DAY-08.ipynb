{
 "cells": [
  {
   "cell_type": "markdown",
   "id": "f5c0c31f",
   "metadata": {},
   "source": [
    "#### GRAPH"
   ]
  },
  {
   "cell_type": "code",
   "execution_count": 1,
   "id": "31c03aa4",
   "metadata": {},
   "outputs": [],
   "source": [
    "# Tree is a Graph but Graph is not a Tree\n",
    "# Graph have edge and vertices \n",
    "# There are 4 types of graphs which depends on their vertices/edges \n",
    "# In case of edge we have 2 types of edge 1- wrt weight , 2- wrt direction \n",
    "# 1- weighted and unweighted , 2- directed and undirected \n",
    "# types of graphs\n",
    "# 1) unweighted undirected \n",
    "# 2) unweighted directed \n",
    "# 3) weighted undirected \n",
    "# 4) weighted directed\n",
    "# while travelling from one pount to another we have 3 costs i) Time ii) Amount iii) Distance  \n",
    "# among these TIME is the most important thing which we invest \n",
    "\n",
    "\n",
    "# Graph can be stored in 2 ways 1) adjency list 2) adjency matrix\n",
    "# We create list of tuples (strat , end , weight )\n",
    "# Adjency list is the combination of dictionary ,list and tuple  (1:[(1,2,0),(2,3,0)])\n",
    "# Traversal : DFS and BFS "
   ]
  },
  {
   "cell_type": "code",
   "execution_count": 3,
   "id": "c802295a",
   "metadata": {},
   "outputs": [
    {
     "name": "stdout",
     "output_type": "stream",
     "text": [
      "4\n",
      "8\n",
      "6\n",
      "3\n",
      "5\n",
      "7\n",
      "2\n",
      "1\n"
     ]
    }
   ],
   "source": [
    "def Graph_dfs(A,V,S,E):\n",
    "\n",
    "    if V[E] == 'F':\n",
    "        S.append(E)\n",
    "        V[E] = 'T'\n",
    "    else:\n",
    "        return\n",
    "    for i in A[E]:\n",
    "        Graph_dfs(A,V,S,i[1])\n",
    "        \n",
    "    print(S.pop())\n",
    "S=[]\n",
    "V={1:'F',2:'F',3:'F',4:'F',5:'F',6:'F',7:'F',8:'F'}\n",
    "A={\n",
    "    1 : ([(1,2,0),(1,3,0)]),\n",
    "    2 : ([(2,1,0),(2,7,0)]),\n",
    "    3 : ([(3,1,0),(3,6,0),(3,5,0)]),\n",
    "    4 : ([(4,7,0),(4,8,0)]),\n",
    "    5 : ([(5,3,0),(5,7,0)]),\n",
    "    6 : ([(6,3,0),(6,8,0)]),\n",
    "    7 : ([(7,2,0),(7,5,0),(7,4,0)]),\n",
    "    8 : ([(8,4,0),(8,6,0)])\n",
    "}\n",
    "\n",
    "Graph_dfs(A,V,S,1)"
   ]
  },
  {
   "cell_type": "code",
   "execution_count": 4,
   "id": "f414d41a",
   "metadata": {},
   "outputs": [
    {
     "name": "stdout",
     "output_type": "stream",
     "text": [
      "1\n",
      "2\n",
      "3\n",
      "7\n",
      "6\n",
      "5\n",
      "4\n",
      "8\n"
     ]
    }
   ],
   "source": [
    "def bfs(A,E):\n",
    "    Q=[E]\n",
    "    V={}\n",
    "    for i in A.keys():\n",
    "        V[i]=False\n",
    "    V[E]=True\n",
    "    while len(Q)!=0:\n",
    "        curr=Q.pop(0)\n",
    "        print(curr)\n",
    "        for i in A[curr]:\n",
    "            if V[i[1]] == False:\n",
    "                Q.append(i[1])\n",
    "                V[i[1]]=True\n",
    "A={\n",
    "    1 : ([(1,2,0),(1,3,0)]),\n",
    "    2 : ([(2,1,0),(2,7,0)]),\n",
    "    3 : ([(3,1,0),(3,6,0),(3,5,0)]),\n",
    "    4 : ([(4,7,0),(4,8,0)]),\n",
    "    5 : ([(5,3,0),(5,7,0)]),\n",
    "    6 : ([(6,3,0),(6,8,0)]),\n",
    "    7 : ([(7,2,0),(7,5,0),(7,4,0)]),\n",
    "    8 : ([(8,4,0),(8,6,0)])\n",
    "}\n",
    "\n",
    "bfs(A,1)"
   ]
  },
  {
   "cell_type": "code",
   "execution_count": 15,
   "id": "3777c1f7",
   "metadata": {},
   "outputs": [
    {
     "ename": "AttributeError",
     "evalue": "'node' object has no attribute 'val'",
     "output_type": "error",
     "traceback": [
      "\u001b[1;31m---------------------------------------------------------------------------\u001b[0m",
      "\u001b[1;31mAttributeError\u001b[0m                            Traceback (most recent call last)",
      "Cell \u001b[1;32mIn[15], line 24\u001b[0m\n\u001b[0;32m     22\u001b[0m         inorder(root\u001b[38;5;241m.\u001b[39mright)\n\u001b[0;32m     23\u001b[0m \u001b[38;5;28;01mfor\u001b[39;00m i \u001b[38;5;129;01min\u001b[39;00m \u001b[38;5;28mlist\u001b[39m:\n\u001b[1;32m---> 24\u001b[0m     insert_bst(root,i)\n\u001b[0;32m     25\u001b[0m inorder(root)\n",
      "Cell \u001b[1;32mIn[15], line 12\u001b[0m, in \u001b[0;36minsert_bst\u001b[1;34m(root, val)\u001b[0m\n\u001b[0;32m     10\u001b[0m \u001b[38;5;28;01mif\u001b[39;00m root \u001b[38;5;241m==\u001b[39m \u001b[38;5;28;01mNone\u001b[39;00m:\n\u001b[0;32m     11\u001b[0m     \u001b[38;5;28;01mreturn\u001b[39;00m node(val)\n\u001b[1;32m---> 12\u001b[0m \u001b[38;5;28;01mif\u001b[39;00m val\u001b[38;5;241m<\u001b[39mroot\u001b[38;5;241m.\u001b[39mval:\n\u001b[0;32m     13\u001b[0m     root\u001b[38;5;241m.\u001b[39mleft\u001b[38;5;241m.\u001b[39minsert_bst(root\u001b[38;5;241m.\u001b[39mleft,val)\n\u001b[0;32m     14\u001b[0m \u001b[38;5;28;01mif\u001b[39;00m val\u001b[38;5;241m>\u001b[39mroot\u001b[38;5;241m.\u001b[39mval:\n",
      "\u001b[1;31mAttributeError\u001b[0m: 'node' object has no attribute 'val'"
     ]
    }
   ],
   "source": [
    "\n",
    "class node:\n",
    "    def __init__(self,data):\n",
    "        self.value = data\n",
    "        self.left = None\n",
    "        self.right = None\n",
    "list=[4,6,7,3,8,2,5,9,1]\n",
    "root=node(list.pop(0))\n",
    "\n",
    "def insert_bst(root,value):\n",
    "    if root == None:\n",
    "        return node(value)\n",
    "    if value<root.value:\n",
    "        root.left.insert_bst(root.left,value)\n",
    "    if value>root.value:\n",
    "        root.right=insert_bst(root.right,value)\n",
    "    return root\n",
    " \n",
    "def inorder(root):\n",
    "    if root:\n",
    "        inorder(root.left)\n",
    "        print(root.value)\n",
    "        inorder(root.right)\n",
    "for i in list:\n",
    "    insert_bst(root,i)\n",
    "inorder(root)"
   ]
  },
  {
   "cell_type": "code",
   "execution_count": null,
   "id": "0430d2df",
   "metadata": {},
   "outputs": [],
   "source": []
  }
 ],
 "metadata": {
  "kernelspec": {
   "display_name": "Python 3 (ipykernel)",
   "language": "python",
   "name": "python3"
  },
  "language_info": {
   "codemirror_mode": {
    "name": "ipython",
    "version": 3
   },
   "file_extension": ".py",
   "mimetype": "text/x-python",
   "name": "python",
   "nbconvert_exporter": "python",
   "pygments_lexer": "ipython3",
   "version": "3.11.5"
  }
 },
 "nbformat": 4,
 "nbformat_minor": 5
}
