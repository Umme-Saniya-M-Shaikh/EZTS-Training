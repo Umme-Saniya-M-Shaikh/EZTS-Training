{
 "cells": [
  {
   "cell_type": "code",
   "execution_count": 1,
   "id": "2f13623f",
   "metadata": {},
   "outputs": [
    {
     "name": "stdout",
     "output_type": "stream",
     "text": [
      "[[1, 2, 2, 3], [3, 1, 4, 2], [1, 5, 3, 3], [1, 2, 1, 1]]\n",
      "2\n",
      "5\n",
      "6\n",
      "11\n",
      "14\n"
     ]
    }
   ],
   "source": [
    "# Finding minimum cost using greedy method \n",
    "arr=[[1,2,2,3],\n",
    "    [3,1,4,2],\n",
    "    [1,5,3,3],\n",
    "    [1,2,1,1]]\n",
    "print(arr)\n",
    "sum = arr[0][0]\n",
    "n=len(arr)\n",
    "m=len(arr[0])\n",
    "i=j=0\n",
    "while (i<n-1 and j<m-1):\n",
    "    if arr[i][j+1] > arr[i+1][j]:\n",
    "        #j+=1\n",
    "        sum+=arr[i][j]\n",
    "        j+=1\n",
    "    else:\n",
    "        #i+=1\n",
    "        sum+=arr[i][j]\n",
    "        i+=1\n",
    "    print(sum)"
   ]
  },
  {
   "cell_type": "code",
   "execution_count": 37,
   "id": "3173d68f",
   "metadata": {},
   "outputs": [
    {
     "name": "stdout",
     "output_type": "stream",
     "text": [
      "[[1, 3, 1, 3], [2, 1, 5, 2], [2, 4, 3, 3], [3, 2, 3, 1]]\n",
      "14\n"
     ]
    }
   ],
   "source": [
    "# Finding minimum cost using greedy method \n",
    "arr=[[1,3,1,3],\n",
    "    [2,1,5,2],\n",
    "    [2,4,3,3],\n",
    "    [3,2,3,1]]\n",
    "print(arr)\n",
    "sum = arr[0][0]\n",
    "n=len(arr)\n",
    "m=len(arr[0])\n",
    "i=j=0\n",
    "while (i<n-1 and j<m-1):\n",
    "    if arr[i][j+1] > arr[i+1][j]:\n",
    "        #j+=1\n",
    "        sum+=arr[i][j]\n",
    "        j+=1\n",
    "    else:\n",
    "        #i+=1\n",
    "        sum+=arr[i][j]\n",
    "        i+=1\n",
    "print(sum)"
   ]
  },
  {
   "cell_type": "code",
   "execution_count": null,
   "id": "9080fdab",
   "metadata": {},
   "outputs": [
    {
     "name": "stdout",
     "output_type": "stream",
     "text": [
      "[[1, 2, 2, 3], [3, 1, 4, 2], [1, 5, 3, 3], [1, 2, 1, 1]]\n"
     ]
    }
   ],
   "source": [
    "# Finding minimum cost using dynamic method \n",
    "arr=[[1,2,2,3],\n",
    "    [3,1,4,2],\n",
    "    [1,5,3,3],\n",
    "    [1,2,1,1]]\n",
    "print(arr)\n",
    "sum = arr[0][0]\n",
    "n=len(arr)\n",
    "m=len(arr[0])\n",
    "i=j=0\n",
    "while i<n-1 and j<m-1:\n",
    "    for i in range(m-1):\n",
    "        sum+=arr[i][j]\n",
    "print(sum)"
   ]
  },
  {
   "cell_type": "code",
   "execution_count": null,
   "id": "3e54337e",
   "metadata": {},
   "outputs": [],
   "source": []
  }
 ],
 "metadata": {
  "kernelspec": {
   "display_name": "Python 3 (ipykernel)",
   "language": "python",
   "name": "python3"
  },
  "language_info": {
   "codemirror_mode": {
    "name": "ipython",
    "version": 3
   },
   "file_extension": ".py",
   "mimetype": "text/x-python",
   "name": "python",
   "nbconvert_exporter": "python",
   "pygments_lexer": "ipython3",
   "version": "3.11.5"
  }
 },
 "nbformat": 4,
 "nbformat_minor": 5
}
