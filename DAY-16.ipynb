{
 "cells": [
  {
   "cell_type": "code",
   "execution_count": 1,
   "id": "f512dc28",
   "metadata": {},
   "outputs": [
    {
     "name": "stdout",
     "output_type": "stream",
     "text": [
      "10 100 20 \n",
      "62 72 \n",
      "16 86 76 \n",
      "7 \n",
      "99 \n"
     ]
    }
   ],
   "source": [
    "class Node:\n",
    "    def __init__(self, data):\n",
    "        self.data = data\n",
    "        self.next = None\n",
    "\n",
    "    def append(self, data):\n",
    "        new_node = Node(data)\n",
    "        current = self\n",
    "        while current.next is not None:\n",
    "            current = current.next\n",
    "        current.next = new_node\n",
    "\n",
    "input_list = [10, 16, 62, 100, 20, 86, 72, 7, 76, 99]\n",
    "head_list = [None] * 10\n",
    "\n",
    "for i in input_list:\n",
    "    remainder = i % 10\n",
    "    if head_list[remainder] is None:\n",
    "        head_list[remainder] = Node(i)\n",
    "    else:\n",
    "        head_list[remainder].append(i)\n",
    "\n",
    "for i in range(len(head_list)):\n",
    "    if head_list[i] is not None:\n",
    "        current = head_list[i]\n",
    "        while current:\n",
    "            print(current.data, end=\" \")\n",
    "            current = current.next\n",
    "        print()"
   ]
  },
  {
   "cell_type": "code",
   "execution_count": 3,
   "id": "8c6e264d",
   "metadata": {},
   "outputs": [
    {
     "name": "stdout",
     "output_type": "stream",
     "text": [
      "9\n"
     ]
    }
   ],
   "source": [
    "k = 199\n",
    "for i in range(k):\n",
    "    k %= 10\n",
    "print(k)"
   ]
  },
  {
   "cell_type": "code",
   "execution_count": 15,
   "id": "dc57be6d",
   "metadata": {},
   "outputs": [
    {
     "name": "stdout",
     "output_type": "stream",
     "text": [
      "5\n"
     ]
    }
   ],
   "source": [
    "k=125\n",
    "k%=10\n",
    "print(k)"
   ]
  },
  {
   "cell_type": "code",
   "execution_count": 21,
   "id": "27a83b33",
   "metadata": {},
   "outputs": [
    {
     "name": "stdout",
     "output_type": "stream",
     "text": [
      "10\n",
      "11\n",
      "5\n",
      "4\n",
      "9\n",
      "9\n",
      "2\n",
      "6\n",
      "12\n",
      "11\n",
      "9\n",
      "5\n",
      "4\n"
     ]
    }
   ],
   "source": [
    "k=[47,22,16,15,20,7,39,56,62,100,98,94,41]\n",
    "n=len(k)\n",
    "h=[False for i in range(len(k))]\n",
    "#print(l)\n",
    "for i in k:\n",
    "    h = i%n\n",
    "    #print(h)\n",
    "    for j in k:\n",
    "        h1=(h+j)%n\n",
    "    print(h1)"
   ]
  },
  {
   "cell_type": "code",
   "execution_count": 2,
   "id": "c5245230",
   "metadata": {},
   "outputs": [
    {
     "name": "stdout",
     "output_type": "stream",
     "text": [
      "[10, 100, 22, 42, 50, 92, 56, 47, 78, 99]\n"
     ]
    }
   ],
   "source": [
    "#Closed hashing \n",
    "l=[22,10,47,42,56,100,50,92,99,78]\n",
    "hash_table=[False]*10\n",
    "for element in l:\n",
    "    h_k=element % 10\n",
    "    for i in range(len(l)):\n",
    "       h1_k=(h_k+i)%10\n",
    "       if hash_table[h1_k] ==False:\n",
    "           hash_table[h1_k]=element\n",
    "           break\n",
    "print(hash_table)           \n",
    "      \n",
    "\n"
   ]
  },
  {
   "cell_type": "code",
   "execution_count": null,
   "id": "1a189b57",
   "metadata": {},
   "outputs": [],
   "source": []
  }
 ],
 "metadata": {
  "kernelspec": {
   "display_name": "Python 3 (ipykernel)",
   "language": "python",
   "name": "python3"
  },
  "language_info": {
   "codemirror_mode": {
    "name": "ipython",
    "version": 3
   },
   "file_extension": ".py",
   "mimetype": "text/x-python",
   "name": "python",
   "nbconvert_exporter": "python",
   "pygments_lexer": "ipython3",
   "version": "3.11.5"
  }
 },
 "nbformat": 4,
 "nbformat_minor": 5
}
