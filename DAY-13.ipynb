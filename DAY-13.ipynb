{
 "cells": [
  {
   "cell_type": "markdown",
   "id": "9aa9be17",
   "metadata": {},
   "source": [
    "#### GRAPH ALGORITHMS"
   ]
  },
  {
   "cell_type": "code",
   "execution_count": 2,
   "id": "b0788400",
   "metadata": {},
   "outputs": [],
   "source": [
    "# Graphs is a set of edges and vertices \n",
    "# there are 2 type of edges 1) weighted and 2) directed \n",
    "# We use dict of list of tuples for example 1:[(1,2,0),(1,3,0)] this is called as adjacency list it consists of source, \n",
    "# destination and weight \n",
    "# IDEAL GRAPH is where the number of edges are equal to the number of vertices \n",
    "# Spanning Tree it is the way to represent graph in which we maintain the property of tree in which the number of \n",
    "# vertices are equal ---formula for spanning tree (no of edges)+ --------- +(n-1)\n",
    "# if we want to find the minimum cost of spanning tree then we call it as minim um spanning tree"
   ]
  },
  {
   "cell_type": "code",
   "execution_count": 3,
   "id": "00598d7c",
   "metadata": {},
   "outputs": [],
   "source": [
    "#Prims algorithm : select the minimum edge from the graph , any destination from the visited source can be consider , \n",
    "# find the minimun weight and mark the distance and connect the vertices ,minimum weight who gives true in my visited array\n",
    "# first create adjacency matrix "
   ]
  },
  {
   "cell_type": "code",
   "execution_count": 1,
   "id": "beb68ded",
   "metadata": {},
   "outputs": [
    {
     "name": "stdout",
     "output_type": "stream",
     "text": [
      "2 4 1\n",
      "(2, 4, 1)\n",
      "(4, 7, 3)\n",
      "(7, 10, 2)\n",
      "(4, 8, 3)\n",
      "(8, 1, 2)\n",
      "(2, 3, 4)\n",
      "(2, 6, 5)\n",
      "(4, 5, 6)\n",
      "(5, 9, 8)\n"
     ]
    }
   ],
   "source": [
    "Graph =[\n",
    "    [0,  7, -1, -1, -1, -1, -1, 2, -1, -1],\n",
    "    [7,  0,  4,  1, -1,  5, -1,-1, -1, -1],\n",
    "    [-1, 4,  0, -1, -1, -1, -1, 8, -1, -1],\n",
    "    [-1, 1, -1,  0,  6,  8,  3, 3, -1, -1],\n",
    "    [-1,-1, -1,  6,  0, -1, -1, 6,  8, -1],\n",
    "    [-1, 5, -1,  8, -1,  0, -1,-1, -1, -1],\n",
    "    [-1,-1, -1,  3, -1, -1,  0,-1,  9,  2],\n",
    "    [2, -1,  8,  3,  6, -1, -1, 0, -1, -1],\n",
    "    [-1,-1, -1, -1,  8, -1,  9,-1,  0, -1],\n",
    "    [-1,-1, -1, -1, -1, -1,  2,-1, -1,  0]\n",
    "]\n",
    "visited = [False]*len(Graph)\n",
    "min=float('inf')\n",
    "x=y=-1\n",
    "\n",
    "for i in range(len(Graph)):\n",
    "    for j in range(len(Graph[i])):\n",
    "        if Graph[i][j] == 0 or Graph[i][j] == -1:\n",
    "            continue\n",
    "        elif min > Graph[i][j]:\n",
    "            min = Graph[i][j]\n",
    "            x=i\n",
    "            y=j\n",
    "print(x+1,y+1,min)\n",
    "visited[x]=True\n",
    "visited[y]=True\n",
    "MST=[]\n",
    "MST.append(tuple((x+1,y+1,min)))\n",
    "#print(MST)\n",
    "while False in visited:\n",
    "    min=float('inf')\n",
    "    for i in range(len(visited)):\n",
    "        if visited[i] == True:\n",
    "            for j in range(len(Graph[i])):\n",
    "                if Graph[i][j] == 0 or Graph[i][j] == -1 or visited[j] == True :\n",
    "                    continue\n",
    "                elif min > Graph[i][j]:\n",
    "                    min = Graph[i][j]\n",
    "                    x=i\n",
    "                    y=j\n",
    "    visited[y] = True\n",
    "    MST.append(tuple((x+1,y+1,min)))\n",
    "for i in MST:\n",
    "    print(i)"
   ]
  },
  {
   "cell_type": "code",
   "execution_count": 2,
   "id": "304f870d",
   "metadata": {},
   "outputs": [
    {
     "name": "stdout",
     "output_type": "stream",
     "text": [
      "2 4 1\n",
      "(2, 4, 1)\n",
      "(1, 8, 2)\n",
      "(7, 10, 2)\n",
      "(8, 1, 2)\n",
      "(10, 7, 2)\n",
      "(2, 3, 4)\n",
      "(2, 6, 5)\n",
      "(4, 5, 6)\n",
      "(5, 9, 8)\n"
     ]
    }
   ],
   "source": [
    "# KRUSHKAL ALGORITHM\n",
    "Graph =[\n",
    "    [0,  7, -1, -1, -1, -1, -1, 2, -1, -1],\n",
    "    [7,  0,  4,  1, -1,  5, -1,-1, -1, -1],\n",
    "    [-1, 4,  0, -1, -1, -1, -1, 8, -1, -1],\n",
    "    [-1, 1, -1,  0,  6,  8,  3, 3, -1, -1],\n",
    "    [-1,-1, -1,  6,  0, -1, -1, 6,  8, -1],\n",
    "    [-1, 5, -1,  8, -1,  0, -1,-1, -1, -1],\n",
    "    [-1,-1, -1,  3, -1, -1,  0,-1,  9,  2],\n",
    "    [2, -1,  8,  3,  6, -1, -1, 0, -1, -1],\n",
    "    [-1,-1, -1, -1,  8, -1,  9,-1,  0, -1],\n",
    "    [-1,-1, -1, -1, -1, -1,  2,-1, -1,  0]\n",
    "]\n",
    "visited = [False]*len(Graph)\n",
    "min=float('inf')\n",
    "x=y=-1\n",
    "\n",
    "for i in range(len(Graph)):\n",
    "    for j in range(len(Graph[i])):\n",
    "        if Graph[i][j] == 0 or Graph[i][j] == -1:\n",
    "            continue\n",
    "        elif min > Graph[i][j]:\n",
    "            min = Graph[i][j]\n",
    "            x=i\n",
    "            y=j\n",
    "print(x+1,y+1,min)\n",
    "visited[x]=True\n",
    "visited[y]=True\n",
    "MST=[]\n",
    "MST.append(tuple((x+1,y+1,min)))\n",
    "#print(MST)\n",
    "while False in visited:\n",
    "    min=float('inf')\n",
    "    for i in range(len(visited)):\n",
    "\n",
    "        for j in range(len(Graph[i])):\n",
    "            if Graph[i][j] == 0 or Graph[i][j] == -1 or visited[j] == True :\n",
    "                continue\n",
    "            elif min > Graph[i][j]:\n",
    "                min = Graph[i][j]\n",
    "                x=i\n",
    "                y=j\n",
    "    visited[y] = True\n",
    "    MST.append(tuple((x+1,y+1,min)))\n",
    "for i in MST:\n",
    "    print(i)"
   ]
  },
  {
   "cell_type": "code",
   "execution_count": 3,
   "id": "dfe9f902",
   "metadata": {},
   "outputs": [],
   "source": [
    "# dijkstra's algorithm is used by the google map \n"
   ]
  },
  {
   "cell_type": "code",
   "execution_count": null,
   "id": "5086b7b0",
   "metadata": {},
   "outputs": [],
   "source": [
    "# Bellmanford algorithm : it doest not have spanning tree its only minimum distance from a single vertex "
   ]
  }
 ],
 "metadata": {
  "kernelspec": {
   "display_name": "Python 3 (ipykernel)",
   "language": "python",
   "name": "python3"
  },
  "language_info": {
   "codemirror_mode": {
    "name": "ipython",
    "version": 3
   },
   "file_extension": ".py",
   "mimetype": "text/x-python",
   "name": "python",
   "nbconvert_exporter": "python",
   "pygments_lexer": "ipython3",
   "version": "3.11.5"
  }
 },
 "nbformat": 4,
 "nbformat_minor": 5
}
