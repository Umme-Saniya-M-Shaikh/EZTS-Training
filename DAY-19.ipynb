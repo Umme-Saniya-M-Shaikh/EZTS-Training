{
 "cells": [
  {
   "cell_type": "markdown",
   "id": "51ff9e5e",
   "metadata": {},
   "source": [
    "##### HEAP"
   ]
  },
  {
   "cell_type": "code",
   "execution_count": 1,
   "id": "61b3d639",
   "metadata": {},
   "outputs": [
    {
     "name": "stdout",
     "output_type": "stream",
     "text": [
      "[8, 6, 5, 2, 1, 3, 4]\n"
     ]
    }
   ],
   "source": [
    "import heapq\n",
    "l=[3,2,4,6,1,5,8]\n",
    "heapq._heapify_max(l)\n",
    "print(l)"
   ]
  },
  {
   "cell_type": "code",
   "execution_count": 6,
   "id": "21468659",
   "metadata": {},
   "outputs": [
    {
     "name": "stdout",
     "output_type": "stream",
     "text": [
      "[3, 2, 4, 6, 1, 5, 8]\n"
     ]
    }
   ],
   "source": [
    "import heapq\n",
    "l=[3,2,4,6,1,5,8]\n",
    "heapq.nsmallest(3,l)\n",
    "print(l)"
   ]
  },
  {
   "cell_type": "code",
   "execution_count": 18,
   "id": "dea0accd",
   "metadata": {},
   "outputs": [
    {
     "name": "stdout",
     "output_type": "stream",
     "text": [
      "[71, 65, 45, 30, 35, 42, 15, 20, 25]\n"
     ]
    }
   ],
   "source": [
    "import heapq\n",
    "def insertion_heap(l,i):\n",
    "    while i>0:\n",
    "        if l[i] > l[i//2]:\n",
    "            l[i//2] = l[i]\n",
    "        else:\n",
    "            break\n",
    "l=[20,25,15,30,35,42,45,71,65]\n",
    "heapq._heapify_max(l)\n",
    "print(l)"
   ]
  },
  {
   "cell_type": "code",
   "execution_count": null,
   "id": "fb63baa8",
   "metadata": {},
   "outputs": [],
   "source": []
  }
 ],
 "metadata": {
  "kernelspec": {
   "display_name": "Python 3 (ipykernel)",
   "language": "python",
   "name": "python3"
  },
  "language_info": {
   "codemirror_mode": {
    "name": "ipython",
    "version": 3
   },
   "file_extension": ".py",
   "mimetype": "text/x-python",
   "name": "python",
   "nbconvert_exporter": "python",
   "pygments_lexer": "ipython3",
   "version": "3.11.5"
  }
 },
 "nbformat": 4,
 "nbformat_minor": 5
}
